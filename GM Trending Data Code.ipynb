{
 "cells": [
  {
   "cell_type": "markdown",
   "metadata": {},
   "source": [
    "# Script to populate 50 trending topics in Greater Melbourne\n",
    "\n",
    "This script will first load in <b>TRENDING.csv</b> which contains all the trending keywords/topics across the 31 LGAs. We will need to group these keywords into one in order to get the trending topics across the whole of Greater Melbourne along with their frequencies. The resulting dataframe will then be a .csv output which will be uploaded onto <a href=\"https://www.wordclouds.com/\">free online word cloud generator</a> to generate a .png image for Community Helper's home page. After which, the .png image will then be uploaded <a href=\"https://onlinepngtools.com/create-transparent-png/\">free online image background remover</a> to remove the white background of the initial image. The resulting .png image will then be edited into the main picture in Community Helper's home page.\n",
    "\n",
    "\n",
    "### Output Documents\n",
    "1. <b>GM_TRENDING.csv</b> - contains 50 trending keywords/topics in Greater Melbourne along with their frequencies\n",
    "2. <b>wordcloud.png</b> - image of word cloud generated from www.wordcloud.com\n",
    "3. <b>output-onlinepngtools.png</b> - image of word cloud with it's background removed\n",
    "\n",
    "### Note\n",
    "- Ensure that `TRENDING.csv` is in the same directory as this script file in order to ensure the script can be run"
   ]
  },
  {
   "cell_type": "code",
   "execution_count": null,
   "metadata": {},
   "outputs": [],
   "source": [
    "# read in the TRENDING.csv data\n",
    "data = read.csv(\"./TRENDING.csv\", header=TRUE)"
   ]
  },
  {
   "cell_type": "code",
   "execution_count": null,
   "metadata": {},
   "outputs": [],
   "source": [
    "# import data manipulation library\n",
    "library(\"dplyr\")\n",
    "\n",
    "# perform groupby to get frequency, sort by descending order, get top 50, reverse the order of columns\n",
    "output = data %>% group_by(word) %>% \n",
    "    summarise(Frequency=sum(n)) %>% \n",
    "    arrange(desc(Frequency)) %>% \n",
    "    top_n(50, Frequency) %>%\n",
    "    select(-word,word)"
   ]
  },
  {
   "cell_type": "code",
   "execution_count": null,
   "metadata": {},
   "outputs": [],
   "source": [
    "# output dataframe as csv file for further use\n",
    "write.csv(output, './GMtopics.csv',row.names = FALSE)"
   ]
  },
  {
   "cell_type": "markdown",
   "metadata": {},
   "source": [
    "# ------------------------------------- END OF SCRIPT --------------------------------------#"
   ]
  }
 ],
 "metadata": {
  "kernelspec": {
   "display_name": "R",
   "language": "R",
   "name": "ir"
  },
  "language_info": {
   "codemirror_mode": "r",
   "file_extension": ".r",
   "mimetype": "text/x-r-source",
   "name": "R",
   "pygments_lexer": "r",
   "version": "3.6.1"
  }
 },
 "nbformat": 4,
 "nbformat_minor": 2
}
